{
 "cells": [
  {
   "cell_type": "code",
   "execution_count": 1,
   "metadata": {},
   "outputs": [
    {
     "ename": "ModuleNotFoundError",
     "evalue": "No module named 'fractal_ml.fractal_ml'",
     "output_type": "error",
     "traceback": [
      "\u001b[0;31m---------------------------------------------------------------------------\u001b[0m",
      "\u001b[0;31mModuleNotFoundError\u001b[0m                       Traceback (most recent call last)",
      "\u001b[0;32m<ipython-input-1-125ab2893acd>\u001b[0m in \u001b[0;36m<module>\u001b[0;34m\u001b[0m\n\u001b[1;32m      5\u001b[0m \u001b[0;32mfrom\u001b[0m \u001b[0mnumpy\u001b[0m \u001b[0;32mimport\u001b[0m \u001b[0mrandom\u001b[0m\u001b[0;34m\u001b[0m\u001b[0;34m\u001b[0m\u001b[0m\n\u001b[1;32m      6\u001b[0m \u001b[0;34m\u001b[0m\u001b[0m\n\u001b[0;32m----> 7\u001b[0;31m \u001b[0;32mfrom\u001b[0m \u001b[0mfractal_ml\u001b[0m \u001b[0;32mimport\u001b[0m \u001b[0mgenerate_direction_fractal\u001b[0m\u001b[0;34m\u001b[0m\u001b[0;34m\u001b[0m\u001b[0m\n\u001b[0m\u001b[1;32m      8\u001b[0m \u001b[0;34m\u001b[0m\u001b[0m\n\u001b[1;32m      9\u001b[0m \u001b[0;32mimport\u001b[0m \u001b[0mmatplotlib\u001b[0m\u001b[0;34m.\u001b[0m\u001b[0mpyplot\u001b[0m \u001b[0;32mas\u001b[0m \u001b[0mplt\u001b[0m\u001b[0;34m\u001b[0m\u001b[0;34m\u001b[0m\u001b[0m\n",
      "\u001b[0;32m~/code/covertree/fractal-ml/fractal_ml/__init__.py\u001b[0m in \u001b[0;36m<module>\u001b[0;34m\u001b[0m\n\u001b[0;32m----> 1\u001b[0;31m \u001b[0;32mfrom\u001b[0m \u001b[0;34m.\u001b[0m\u001b[0mfractal_ml\u001b[0m \u001b[0;32mimport\u001b[0m \u001b[0mgenerate_direction_fractal\u001b[0m\u001b[0;34m\u001b[0m\u001b[0;34m\u001b[0m\u001b[0m\n\u001b[0m\u001b[1;32m      2\u001b[0m \u001b[0;34m\u001b[0m\u001b[0m\n\u001b[1;32m      3\u001b[0m \u001b[0m__all__\u001b[0m \u001b[0;34m=\u001b[0m \u001b[0;34m[\u001b[0m\u001b[0;34m\"generate_direction_fractal\"\u001b[0m\u001b[0;34m]\u001b[0m\u001b[0;34m\u001b[0m\u001b[0;34m\u001b[0m\u001b[0m\n\u001b[1;32m      4\u001b[0m \u001b[0;34m\u001b[0m\u001b[0m\n\u001b[1;32m      5\u001b[0m \u001b[0;34m\u001b[0m\u001b[0m\n",
      "\u001b[0;31mModuleNotFoundError\u001b[0m: No module named 'fractal_ml.fractal_ml'"
     ]
    }
   ],
   "source": [
    "import math\n",
    "import itertools\n",
    "\n",
    "import numpy as np\n",
    "from numpy import random\n",
    "\n",
    "from fractal_ml import generate_direction_fractal\n",
    "\n",
    "import matplotlib.pyplot as plt"
   ]
  },
  {
   "cell_type": "code",
   "execution_count": null,
   "metadata": {},
   "outputs": [],
   "source": [
    "x = random.rand()\n",
    "x"
   ]
  },
  {
   "cell_type": "code",
   "execution_count": null,
   "metadata": {},
   "outputs": [],
   "source": [
    "def convert_base(x, base=2, precision=1000):\n",
    "    x = x - int(x)\n",
    "    exponents = range(-1, (-precision - 1) * 2, -1)\n",
    "    for e in exponents:\n",
    "        d = int(x // (base ** e))\n",
    "        x -= d * (base ** e)\n",
    "        yield d\n",
    "        if x == 0: break"
   ]
  },
  {
   "cell_type": "code",
   "execution_count": null,
   "metadata": {},
   "outputs": [],
   "source": [
    "# Evaluates a binary form\n",
    "sum(d * (2 ** (-i - 1)) for i, d in enumerate(convert_base(x)))"
   ]
  },
  {
   "cell_type": "markdown",
   "metadata": {},
   "source": [
    "# Cantor Set"
   ]
  },
  {
   "cell_type": "code",
   "execution_count": null,
   "metadata": {},
   "outputs": [],
   "source": [
    "def cantor_sample(precision=100):\n",
    "    # Uses the bijection between [0, 1] and the Cantor set that takes x in [0, 1] in binary form, replaces the 1's with 2's\n",
    "    # and reinterprets it as a ternary number.\n",
    "    x = random.rand()\n",
    "    base = convert_base(x, 2, precision)\n",
    "    \n",
    "    #converts the binary form to ternary and evaluates it as a real number.\n",
    "    val = sum(2*d * (3 ** (-i - 1)) for i, d in enumerate(convert_base(x)))\n",
    "    return val"
   ]
  },
  {
   "cell_type": "code",
   "execution_count": null,
   "metadata": {},
   "outputs": [],
   "source": [
    "# set up the figure\n",
    "fig = plt.figure()\n",
    "ax = fig.add_subplot(111)\n",
    "ax.set_xlim(0,1)\n",
    "ax.set_ylim(-5,5)\n",
    "\n",
    "# draw lines\n",
    "xmin = 0\n",
    "xmax = 1\n",
    "y = 0\n",
    "height = 1\n",
    "\n",
    "plt.hlines(y, xmin, xmax)\n",
    "\n",
    "# draw a point on the line\n",
    "px = [cantor_sample() for _ in range(1000)]\n",
    "py = [y for i in range(len(px))]\n",
    "\n",
    "for i in range(len(px)):\n",
    "    plt.vlines(px[i], py[i] - height / 2., py[i] + height / 2.)\n",
    "plt.show()"
   ]
  },
  {
   "cell_type": "markdown",
   "metadata": {},
   "source": [
    "# Sierpinski Triangle"
   ]
  },
  {
   "cell_type": "code",
   "execution_count": null,
   "metadata": {},
   "outputs": [],
   "source": [
    "def sierpinski_sample(precision=100):\n",
    "    # Takes a random number in [0, 1] and uses it to navigate the Left/Top/Right tree.\n",
    "    x = random.rand()\n",
    "    s_x, s_y = 0, 0\n",
    "    path = convert_base(x, 3, precision)\n",
    "    exp = 1\n",
    "    for p in path:\n",
    "        exp -= 1\n",
    "        if p == 0:\n",
    "            pass\n",
    "        elif p == 1:\n",
    "            s_x += 0.25 * 2 ** exp\n",
    "            s_y += 0.5 * 2 ** exp\n",
    "        elif p == 2:\n",
    "            s_x += 0.5 * 2 ** exp\n",
    "    return s_x, s_y"
   ]
  },
  {
   "cell_type": "code",
   "execution_count": null,
   "metadata": {},
   "outputs": [],
   "source": [
    "data = [sierpinski_sample() for _ in range(10000)]\n",
    "x, y = np.array(data).T\n",
    "plt.scatter(x, y, s=2, c='black')\n",
    "plt.show()"
   ]
  },
  {
   "cell_type": "markdown",
   "metadata": {},
   "source": [
    "# Random Thing"
   ]
  },
  {
   "cell_type": "code",
   "execution_count": null,
   "metadata": {},
   "outputs": [],
   "source": [
    "def random_direction_matrix(number_of_directions, extrinsic_dim,precision=1000):\n",
    "    mean = np.zeros([extrinsic_dim])\n",
    "    cov = np.identity(extrinsic_dim)\n",
    "    rg = np.random.Generator(PCG64())\n",
    "    # We can normalize this if we want to\n",
    "    base = rg.multivariate_normal(mean,cov,[precision,number_of_directions])\n",
    "    return base\n",
    "\n",
    "\n",
    "directions = random_direction_matrix(3,2,100)\n",
    "print(directions.shape)\n",
    "data = generate_direction_fractal(100,0.5,directions)\n",
    "x, y = np.array(data).T\n",
    "plt.scatter(x, y, s=2, c='black')\n",
    "plt.show()"
   ]
  }
 ],
 "metadata": {
  "kernelspec": {
   "display_name": "Python 3",
   "language": "python",
   "name": "python3"
  },
  "language_info": {
   "codemirror_mode": {
    "name": "ipython",
    "version": 3
   },
   "file_extension": ".py",
   "mimetype": "text/x-python",
   "name": "python",
   "nbconvert_exporter": "python",
   "pygments_lexer": "ipython3",
   "version": "3.7.5"
  }
 },
 "nbformat": 4,
 "nbformat_minor": 2
}
