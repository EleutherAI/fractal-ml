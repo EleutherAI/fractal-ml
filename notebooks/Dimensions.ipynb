{
 "cells": [
  {
   "cell_type": "code",
   "execution_count": 1,
   "metadata": {},
   "outputs": [],
   "source": [
    "import math\n",
    "import itertools\n",
    "\n",
    "import numpy as np\n",
    "from numpy import random\n",
    "from numpy.random import Generator, PCG64\n",
    "\n",
    "import scipy.stats\n",
    "\n",
    "from fractal_ml import generate_direction_fractal, approx_box_counting\n",
    "\n",
    "import matplotlib.pyplot as plt"
   ]
  },
  {
   "cell_type": "code",
   "execution_count": 2,
   "metadata": {},
   "outputs": [],
   "source": [
    "def convert_base(x, base=2, precision=1000):\n",
    "    x = x - int(x)\n",
    "    exponents = range(-1, (-precision - 1) * 2, -1)\n",
    "    for e in exponents:\n",
    "        d = int(x // (base ** e))\n",
    "        x -= d * (base ** e)\n",
    "        yield d\n",
    "        if x == 0: break"
   ]
  },
  {
   "cell_type": "code",
   "execution_count": 3,
   "metadata": {},
   "outputs": [],
   "source": [
    "def cantor_sample(precision=100):\n",
    "    # Uses the bijection between [0, 1] and the Cantor set that takes x in [0, 1] in binary form, replaces the 1's with 2's\n",
    "    # and reinterprets it as a ternary number.\n",
    "    x = random.rand()\n",
    "    base = convert_base(x, 2, precision)\n",
    "    \n",
    "    #converts the binary form to ternary and evaluates it as a real number.\n",
    "    val = sum(2*d * (3 ** (-i - 1)) for i, d in enumerate(convert_base(x)))\n",
    "    return val"
   ]
  },
  {
   "cell_type": "code",
   "execution_count": 4,
   "metadata": {},
   "outputs": [],
   "source": [
    "def sierpinski_sample(precision=100):\n",
    "    # Takes a random number in [0, 1] and uses it to navigate the Left/Top/Right tree.\n",
    "    x = random.rand()\n",
    "    s_x, s_y = 0, 0\n",
    "    path = convert_base(x, 3, precision)\n",
    "    exp = 1\n",
    "    for p in path:\n",
    "        exp -= 1\n",
    "        if p == 0:\n",
    "            pass\n",
    "        elif p == 1:\n",
    "            s_x += 0.25 * 2 ** exp\n",
    "            s_y += 0.5 * 2 ** exp\n",
    "        elif p == 2:\n",
    "            s_x += 0.5 * 2 ** exp\n",
    "    return s_x, s_y"
   ]
  },
  {
   "cell_type": "code",
   "execution_count": 5,
   "metadata": {},
   "outputs": [
    {
     "data": {
      "image/png": "[encoded data removed]",
      "text/plain": [
       "<Figure size 432x288 with 1 Axes>"
      ]
     },
     "metadata": {
      "needs_background": "light"
     },
     "output_type": "display_data"
    }
   ],
   "source": [
    "data = np.array([(cantor_sample(), cantor_sample()) for _ in range(400)])\n",
    "x, y = data.T\n",
    "plt.scatter(x, y, s=2)\n",
    "plt.show()"
   ]
  },
  {
   "cell_type": "code",
   "execution_count": 6,
   "metadata": {},
   "outputs": [],
   "source": [
    "def fractal_dim(base, exp_low, exp_high, data):\n",
    "    counts = approx_box_counting(base, exp_low, exp_high, data)\n",
    "    data = np.array([[(exp_low + i), np.log(counts[i])/np.log(base)] for i in range(len(counts))])\n",
    "    return data"
   ]
  },
  {
   "cell_type": "code",
   "execution_count": 13,
   "metadata": {},
   "outputs": [
    {
     "name": "stdout",
     "output_type": "stream",
     "text": [
      "True dim:  1.2618595071429148\n",
      "y =  -1.4643856189774727 x +  0.7695993813109903\n",
      "0.9928496911289774 0.0002571640454747591\n"
     ]
    },
    {
     "data": {
      "image/png": "[encoded data removed]",
      "text/plain": [
       "<Figure size 432x288 with 1 Axes>"
      ]
     },
     "metadata": {
      "needs_background": "light"
     },
     "output_type": "display_data"
    }
   ],
   "source": [
    "base = 2\n",
    "data = np.array([(cantor_sample(), cantor_sample()) for _ in range(5000)])\n",
    "counts = fractal_dim(base, -5, 0, data)\n",
    "x, y = counts[:,0], counts[:,1]\n",
    "m, b, r_value, p_value, std_err = scipy.stats.linregress(x, y)\n",
    "plt.plot(x, m*x+b)\n",
    "\n",
    "counts = fractal_dim(base, -15, 5, data)\n",
    "x, y = counts[:,0], counts[:,1]\n",
    "plt.plot(x, y, 'o')\n",
    "\n",
    "print(\"True dim: \", np.log(4)/np.log(3))\n",
    "print(\"y = \", m, \"x + \", b)\n",
    "print(r_value**2, p_value)"
   ]
  },
  {
   "cell_type": "code",
   "execution_count": 8,
   "metadata": {},
   "outputs": [
    {
     "name": "stdout",
     "output_type": "stream",
     "text": [
      "True dim:  1.5849625007211563\n",
      "y =  -1.584962500721156 x +  0.4150374992788448\n",
      "1.0 1.2004217548761408e-30\n"
     ]
    },
    {
     "data": {
      "image/png": "[encoded data removed]",
      "text/plain": [
       "<Figure size 432x288 with 1 Axes>"
      ]
     },
     "metadata": {
      "needs_background": "light"
     },
     "output_type": "display_data"
    }
   ],
   "source": [
    "base = 2\n",
    "data = np.array([sierpinski_sample() for _ in range(5000)])\n",
    "counts = fractal_dim(base, -5, 0, data)\n",
    "x, y = counts[:,0], counts[:,1]\n",
    "m, b, r_value, p_value, std_err = scipy.stats.linregress(x, y)\n",
    "plt.plot(x, m*x+b)\n",
    "\n",
    "counts = fractal_dim(base, -15, 5, data)\n",
    "x, y = counts[:,0], counts[:,1]\n",
    "plt.plot(x, y, 'o')\n",
    "\n",
    "print(\"True dim: \", np.log(3)/np.log(2))\n",
    "print(\"y = \", m, \"x + \", b)\n",
    "print(r_value**2, p_value)"
   ]
  },
  {
   "cell_type": "code",
   "execution_count": 9,
   "metadata": {},
   "outputs": [
    {
     "name": "stdout",
     "output_type": "stream",
     "text": [
      "(100, 3, 2)\n"
     ]
    },
    {
     "data": {
      "image/png": "[encoded data removed]",
      "text/plain": [
       "<Figure size 432x288 with 1 Axes>"
      ]
     },
     "metadata": {
      "needs_background": "light"
     },
     "output_type": "display_data"
    }
   ],
   "source": [
    "def random_direction_matrix(number_of_directions, extrinsic_dim, precision=1000):\n",
    "    mean = np.zeros([extrinsic_dim])\n",
    "    cov = np.identity(extrinsic_dim)\n",
    "    rg = np.random.Generator(PCG64())\n",
    "    # We can normalize this if we want to\n",
    "    base = rg.multivariate_normal(mean,cov,[precision,number_of_directions])\n",
    "    return base\n",
    "\n",
    "directions = random_direction_matrix(3, 2, 100)\n",
    "print(directions.shape)\n",
    "data = generate_direction_fractal(10000, 0.3, directions)\n",
    "x, y = np.array(data).T\n",
    "plt.scatter(x, y, s=2, c='black')\n",
    "plt.show()"
   ]
  },
  {
   "cell_type": "code",
   "execution_count": 10,
   "metadata": {
    "scrolled": true
   },
   "outputs": [
    {
     "name": "stdout",
     "output_type": "stream",
     "text": [
      "y =  -0.8740755447673509 x +  1.2072322005543654\n",
      "0.9979734902531495 4.615356012883944e-12\n"
     ]
    },
    {
     "data": {
      "image/png": "[encoded data removed]",
      "text/plain": [
       "<Figure size 432x288 with 1 Axes>"
      ]
     },
     "metadata": {
      "needs_background": "light"
     },
     "output_type": "display_data"
    }
   ],
   "source": [
    "base = 2\n",
    "counts = fractal_dim(base, -10, 0, data)\n",
    "x, y = counts[:,0], counts[:,1]\n",
    "m, b, r_value, p_value, std_err = scipy.stats.linregress(x, y)\n",
    "plt.plot(x, m*x+b)\n",
    "\n",
    "counts = fractal_dim(base, -15, 5, data)\n",
    "x, y = counts[:,0], counts[:,1]\n",
    "plt.plot(x, y, 'o')\n",
    "\n",
    "print(\"y = \", m, \"x + \", b)\n",
    "print(r_value**2, p_value)"
   ]
  },
  {
   "cell_type": "code",
   "execution_count": 11,
   "metadata": {},
   "outputs": [
    {
     "name": "stdout",
     "output_type": "stream",
     "text": [
      "y =  -0.8647143177002076 x +  0.7455242702972749\n",
      "0.9969454732926453 3.502368553230363e-06\n"
     ]
    },
    {
     "data": {
      "image/png": "[encoded data removed]",
      "text/plain": [
       "<Figure size 432x288 with 1 Axes>"
      ]
     },
     "metadata": {
      "needs_background": "light"
     },
     "output_type": "display_data"
    }
   ],
   "source": [
    "base = 3\n",
    "counts = fractal_dim(base, -7, -1, data)\n",
    "x, y = counts[:,0], counts[:,1]\n",
    "m, b, r_value, p_value, std_err = scipy.stats.linregress(x, y)\n",
    "plt.plot(x, m*x+b)\n",
    "\n",
    "counts = fractal_dim(base, -15, 5, data)\n",
    "x, y = counts[:,0], counts[:,1]\n",
    "plt.plot(x, y, 'o')\n",
    "\n",
    "print(\"y = \", m, \"x + \", b)\n",
    "print(r_value**2, p_value)"
   ]
  },
  {
   "cell_type": "code",
   "execution_count": 12,
   "metadata": {},
   "outputs": [
    {
     "name": "stdout",
     "output_type": "stream",
     "text": [
      "y =  -0.8554237207441386 x +  0.6222552414538747\n",
      "0.9973664007373443 2.603228571557229e-06\n"
     ]
    },
    {
     "data": {
      "image/png": "[encoded data removed]",
      "text/plain": [
       "<Figure size 432x288 with 1 Axes>"
      ]
     },
     "metadata": {
      "needs_background": "light"
     },
     "output_type": "display_data"
    }
   ],
   "source": [
    "base = 4\n",
    "counts = fractal_dim(base, -6, 0, data)\n",
    "x, y = counts[:,0], counts[:,1]\n",
    "m, b, r_value, p_value, std_err = scipy.stats.linregress(x, y)\n",
    "plt.plot(x, m*x+b)\n",
    "\n",
    "counts = fractal_dim(base, -15, 5, data)\n",
    "x, y = counts[:,0], counts[:,1]\n",
    "plt.plot(x, y, 'o')\n",
    "\n",
    "print(\"y = \", m, \"x + \", b)\n",
    "print(r_value**2, p_value)"
   ]
  }
 ],
 "metadata": {
  "kernelspec": {
   "display_name": "Python 3",
   "language": "python",
   "name": "python3"
  },
  "language_info": {
   "codemirror_mode": {
    "name": "ipython",
    "version": 3
   },
   "file_extension": ".py",
   "mimetype": "text/x-python",
   "name": "python",
   "nbconvert_exporter": "python",
   "pygments_lexer": "ipython3",
   "version": "3.7.4"
  }
 },
 "nbformat": 4,
 "nbformat_minor": 2
}
