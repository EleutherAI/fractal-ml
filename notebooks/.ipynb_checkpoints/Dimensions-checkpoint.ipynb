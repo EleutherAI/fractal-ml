{
 "cells": [
  {
   "cell_type": "code",
   "execution_count": 1,
   "metadata": {},
   "outputs": [],
   "source": [
    "import math\n",
    "import itertools\n",
    "\n",
    "import numpy as np\n",
    "from numpy import random\n",
    "from numpy.random import Generator, PCG64\n",
    "\n",
    "from fractal_ml import generate_direction_fractal, approx_box_counting\n",
    "\n",
    "import matplotlib.pyplot as plt"
   ]
  },
  {
   "cell_type": "code",
   "execution_count": 2,
   "metadata": {},
   "outputs": [],
   "source": [
    "def convert_base(x, base=2, precision=1000):\n",
    "    x = x - int(x)\n",
    "    exponents = range(-1, (-precision - 1) * 2, -1)\n",
    "    for e in exponents:\n",
    "        d = int(x // (base ** e))\n",
    "        x -= d * (base ** e)\n",
    "        yield d\n",
    "        if x == 0: break"
   ]
  },
  {
   "cell_type": "code",
   "execution_count": 3,
   "metadata": {},
   "outputs": [],
   "source": [
    "def cantor_sample(precision=100):\n",
    "    # Uses the bijection between [0, 1] and the Cantor set that takes x in [0, 1] in binary form, replaces the 1's with 2's\n",
    "    # and reinterprets it as a ternary number.\n",
    "    x = random.rand()\n",
    "    base = convert_base(x, 2, precision)\n",
    "    \n",
    "    #converts the binary form to ternary and evaluates it as a real number.\n",
    "    val = sum(2*d * (3 ** (-i - 1)) for i, d in enumerate(convert_base(x)))\n",
    "    return val"
   ]
  },
  {
   "cell_type": "code",
   "execution_count": 4,
   "metadata": {},
   "outputs": [],
   "source": [
    "def sierpinski_sample(precision=100):\n",
    "    # Takes a random number in [0, 1] and uses it to navigate the Left/Top/Right tree.\n",
    "    x = random.rand()\n",
    "    s_x, s_y = 0, 0\n",
    "    path = convert_base(x, 3, precision)\n",
    "    exp = 1\n",
    "    for p in path:\n",
    "        exp -= 1\n",
    "        if p == 0:\n",
    "            pass\n",
    "        elif p == 1:\n",
    "            s_x += 0.25 * 2 ** exp\n",
    "            s_y += 0.5 * 2 ** exp\n",
    "        elif p == 2:\n",
    "            s_x += 0.5 * 2 ** exp\n",
    "    return s_x, s_y"
   ]
  },
  {
   "cell_type": "code",
   "execution_count": 5,
   "metadata": {},
   "outputs": [
    {
     "data": {
      "image/png": "[encoded data removed]",
      "text/plain": [
       "<Figure size 432x288 with 1 Axes>"
      ]
     },
     "metadata": {
      "needs_background": "light"
     },
     "output_type": "display_data"
    }
   ],
   "source": [
    "data = np.array([sierpinski_sample() for _ in range(400)])\n",
    "x, y = data.T\n",
    "plt.scatter(x, y, s=2)\n",
    "plt.show()"
   ]
  },
  {
   "cell_type": "code",
   "execution_count": 14,
   "metadata": {},
   "outputs": [],
   "source": [
    "def fractal_dim(base, exp_low, exp_high, data):\n",
    "    counts = approx_box_counting(base, exp_low, exp_high, data)\n",
    "    data = np.array([[exp_low + i, np.log(counts[i])/(-exp_low-i)] for i in range(len(counts))])\n",
    "    return data\n",
    "    \n",
    "data = np.array([sierpinski_sample() for _ in range(4000)])"
   ]
  },
  {
   "cell_type": "code",
   "execution_count": 1,
   "metadata": {},
   "outputs": [
    {
     "ename": "NameError",
     "evalue": "name 'fractal_dim' is not defined",
     "output_type": "error",
     "traceback": [
      "\u001b[1;31m---------------------------------------------------------------------------\u001b[0m",
      "\u001b[1;31mNameError\u001b[0m                                 Traceback (most recent call last)",
      "\u001b[1;32m<ipython-input-1-0be3c110861f>\u001b[0m in \u001b[0;36m<module>\u001b[1;34m\u001b[0m\n\u001b[1;32m----> 1\u001b[1;33m \u001b[0mcounts\u001b[0m \u001b[1;33m=\u001b[0m \u001b[0mfractal_dim\u001b[0m\u001b[1;33m(\u001b[0m\u001b[1;36m3.0\u001b[0m\u001b[1;33m,\u001b[0m \u001b[1;33m-\u001b[0m\u001b[1;36m10\u001b[0m\u001b[1;33m,\u001b[0m \u001b[1;36m0\u001b[0m\u001b[1;33m,\u001b[0m \u001b[0mdata\u001b[0m\u001b[1;33m)\u001b[0m\u001b[1;33m\u001b[0m\u001b[1;33m\u001b[0m\u001b[0m\n\u001b[0m\u001b[0;32m      2\u001b[0m \u001b[0mx\u001b[0m\u001b[1;33m,\u001b[0m \u001b[0my\u001b[0m \u001b[1;33m=\u001b[0m \u001b[0mcounts\u001b[0m\u001b[1;33m[\u001b[0m\u001b[1;33m:\u001b[0m\u001b[1;33m,\u001b[0m\u001b[1;36m0\u001b[0m\u001b[1;33m]\u001b[0m\u001b[1;33m,\u001b[0m \u001b[0mcounts\u001b[0m\u001b[1;33m[\u001b[0m\u001b[1;33m:\u001b[0m\u001b[1;33m,\u001b[0m\u001b[1;36m1\u001b[0m\u001b[1;33m]\u001b[0m\u001b[1;33m\u001b[0m\u001b[1;33m\u001b[0m\u001b[0m\n\u001b[0;32m      3\u001b[0m \u001b[0ma\u001b[0m\u001b[1;33m,\u001b[0m \u001b[0mb\u001b[0m \u001b[1;33m=\u001b[0m \u001b[0mnp\u001b[0m\u001b[1;33m.\u001b[0m\u001b[0mpolyfit\u001b[0m\u001b[1;33m(\u001b[0m\u001b[0mx\u001b[0m\u001b[1;33m,\u001b[0m \u001b[0my\u001b[0m\u001b[1;33m,\u001b[0m \u001b[1;36m1\u001b[0m\u001b[1;33m)\u001b[0m\u001b[1;33m\u001b[0m\u001b[1;33m\u001b[0m\u001b[0m\n\u001b[0;32m      4\u001b[0m \u001b[0mplt\u001b[0m\u001b[1;33m.\u001b[0m\u001b[0mplot\u001b[0m\u001b[1;33m(\u001b[0m\u001b[0mx\u001b[0m\u001b[1;33m,\u001b[0m \u001b[0my\u001b[0m\u001b[1;33m,\u001b[0m \u001b[1;34m'o'\u001b[0m\u001b[1;33m)\u001b[0m\u001b[1;33m\u001b[0m\u001b[1;33m\u001b[0m\u001b[0m\n\u001b[0;32m      5\u001b[0m \u001b[0mplt\u001b[0m\u001b[1;33m.\u001b[0m\u001b[0mplot\u001b[0m\u001b[1;33m(\u001b[0m\u001b[0mx\u001b[0m\u001b[1;33m,\u001b[0m \u001b[0ma\u001b[0m\u001b[1;33m*\u001b[0m\u001b[0mx\u001b[0m\u001b[1;33m+\u001b[0m\u001b[0mb\u001b[0m\u001b[1;33m)\u001b[0m\u001b[1;33m\u001b[0m\u001b[1;33m\u001b[0m\u001b[0m\n",
      "\u001b[1;31mNameError\u001b[0m: name 'fractal_dim' is not defined"
     ]
    }
   ],
   "source": [
    "counts = fractal_dim(3.0, -10, 0, data)\n",
    "x, y = counts[:,0], counts[:,1]\n",
    "a, b = np.polyfit(x, y, 1)\n",
    "plt.plot(x, y, 'o')\n",
    "plt.plot(x, a*x+b)\n",
    "print(\"y = \", a, \"x + \", b)"
   ]
  },
  {
   "cell_type": "code",
   "execution_count": 8,
   "metadata": {},
   "outputs": [
    {
     "data": {
      "text/plain": [
       "array([[-10.        ,   0.59914645],\n",
       "       [ -9.        ,   0.66571828],\n",
       "       [ -8.        ,   0.74893307],\n",
       "       [ -7.        ,   0.85592351],\n",
       "       [ -6.        ,   0.99732271],\n",
       "       [ -5.        ,   1.19374151],\n",
       "       [ -4.        ,   1.45870268],\n",
       "       [ -3.        ,   1.76106791],\n",
       "       [ -2.        ,   1.88060006],\n",
       "       [ -1.        ,   1.94591015]])"
      ]
     },
     "execution_count": 8,
     "metadata": {},
     "output_type": "execute_result"
    }
   ],
   "source": [
    "counts"
   ]
  },
  {
   "cell_type": "code",
   "execution_count": null,
   "metadata": {},
   "outputs": [],
   "source": []
  },
  {
   "cell_type": "code",
   "execution_count": null,
   "metadata": {},
   "outputs": [],
   "source": []
  }
 ],
 "metadata": {
  "kernelspec": {
   "display_name": "Python 3",
   "language": "python",
   "name": "python3"
  },
  "language_info": {
   "codemirror_mode": {
    "name": "ipython",
    "version": 3
   },
   "file_extension": ".py",
   "mimetype": "text/x-python",
   "name": "python",
   "nbconvert_exporter": "python",
   "pygments_lexer": "ipython3",
   "version": "3.7.4"
  }
 },
 "nbformat": 4,
 "nbformat_minor": 2
}
